{
 "cells": [
  {
   "cell_type": "code",
   "execution_count": 15,
   "metadata": {},
   "outputs": [
    {
     "data": {
      "image/png": "[encoded data removed]",
      "text/plain": [
       "<Figure size 432x288 with 1 Axes>"
      ]
     },
     "metadata": {},
     "output_type": "display_data"
    },
    {
     "data": {
      "image/png": "[encoded data removed]",
      "text/plain": [
       "<Figure size 432x288 with 1 Axes>"
      ]
     },
     "metadata": {},
     "output_type": "display_data"
    },
    {
     "data": {
      "image/png": "[encoded data removed]",
      "text/plain": [
       "<Figure size 432x288 with 1 Axes>"
      ]
     },
     "metadata": {},
     "output_type": "display_data"
    },
    {
     "data": {
      "image/png": "[encoded data removed]",
      "text/plain": [
       "<Figure size 432x288 with 1 Axes>"
      ]
     },
     "metadata": {},
     "output_type": "display_data"
    }
   ],
   "source": [
    "# -*- coding: utf-8 -*-\n",
    "\n",
    "__author__ = 'Nina Mariann Vesseltun', 'Elin Woelner Bjoernson'\n",
    "__email__ = 'nive@nmbu.no', 'elinbj@nmbu.no'\n",
    "\n",
    "\n",
    "import random\n",
    "import statistics\n",
    "import matplotlib.pyplot as plt\n",
    "import numpy as np\n",
    "\n",
    "def chute_or_ladder(position):\n",
    "    \"\"\"\n",
    "    Changes position if player landed on chute or ladder\n",
    "    Parameters\n",
    "    ----------\n",
    "    position : int\n",
    "\n",
    "    Returns\n",
    "    -------\n",
    "    new_position : int\n",
    "        changes if player landed on chute or ladder\n",
    "\n",
    "    \"\"\"\n",
    "    from_position = [1, 8, 36, 43, 49, 65, 68, 24, 33, 42, 56, 64, 74, 87]\n",
    "    to_position = [40, 10, 52, 62, 79, 82, 85, 5, 3, 30, 37, 27, 12, 70]\n",
    "    if position in from_position:\n",
    "        new_position = to_position[from_position.index(position)]\n",
    "        return new_position\n",
    "    else:\n",
    "        return position\n",
    "\n",
    "\n",
    "def single_game(num_players):\n",
    "    \"\"\"\n",
    "    Returns duration of single game.\n",
    "\n",
    "    Arguments\n",
    "    ---------\n",
    "    num_players : int\n",
    "        Number of players in the game\n",
    "\n",
    "    Returns\n",
    "    -------\n",
    "    num_moves : int\n",
    "        Number of moves the winning player needed to reach the goal\n",
    "    \"\"\"\n",
    "    player_position = []\n",
    "    player_moves = []\n",
    "    for i in range(num_players):\n",
    "        player_position.append(0)  # everybody starts at position 0\n",
    "        player_moves.append(0)  # starts with 0 moves\n",
    "    play = True\n",
    "    num_moves = 0\n",
    "    while play is True:\n",
    "        for player in range(num_players):\n",
    "            dice = random.randint(1, 6)\n",
    "            player_position[player] += dice\n",
    "            player_moves[player] += 1\n",
    "            player_position[player] = chute_or_ladder(player_position[player])\n",
    "            if player_position[player] >= 90:\n",
    "                num_moves = player_moves[player]\n",
    "                play = False\n",
    "    return num_moves\n",
    "\n",
    "\n",
    "def multiple_games(num_games, num_players):\n",
    "    \"\"\"\n",
    "    Returns durations of a number of games.\n",
    "\n",
    "    Arguments\n",
    "    ---------\n",
    "    num_games : int\n",
    "        Number of games to play\n",
    "    num_players : int\n",
    "        Number of players in the game\n",
    "\n",
    "    Returns\n",
    "    -------\n",
    "    num_moves : list\n",
    "        List with the number of moves needed in each game.\n",
    "    \"\"\"\n",
    "    num_moves = []\n",
    "    for i in range(num_games):\n",
    "        num_moves.append(single_game(num_players))\n",
    "    return num_moves\n",
    "\n",
    "\n",
    "def multi_game_experiment(num_games, num_players, seed):\n",
    "    \"\"\"\n",
    "    Returns durations of a number of games when playing with given seed.\n",
    "\n",
    "    Arguments\n",
    "    ---------\n",
    "    num_games : int\n",
    "        Number of games to play\n",
    "    num_players : int\n",
    "        Number of players in the game\n",
    "    seed : int\n",
    "        Seed used to initialise the random number generator\n",
    "\n",
    "    Returns\n",
    "    -------\n",
    "    num_moves : list\n",
    "        List with the number of moves needed in each game.\n",
    "    \"\"\"\n",
    "    num_moves = []\n",
    "    random.seed(seed)\n",
    "    for i in range(num_games):\n",
    "        num_moves.append(single_game(num_players))\n",
    "    return num_moves\n",
    "\n",
    "\n",
    "if __name__ == '__main__':    \n",
    "    for num_players in [1, 2, 4, 8]:\n",
    "        duration = multi_game_experiment(100, num_players, 6)\n",
    "        a = np.asarray(duration)\n",
    "        plt.hist(x = a, bins = 50)\n",
    "        plt.title(f'Number of players: {num_players}')\n",
    "        plt.show()    \n"
   ]
  },
  {
   "cell_type": "code",
   "execution_count": null,
   "metadata": {},
   "outputs": [],
   "source": []
  }
 ],
 "metadata": {
  "kernelspec": {
   "display_name": "Python 3",
   "language": "python",
   "name": "python3"
  },
  "language_info": {
   "codemirror_mode": {
    "name": "ipython",
    "version": 3
   },
   "file_extension": ".py",
   "mimetype": "text/x-python",
   "name": "python",
   "nbconvert_exporter": "python",
   "pygments_lexer": "ipython3",
   "version": "3.6.5"
  }
 },
 "nbformat": 4,
 "nbformat_minor": 2
}
